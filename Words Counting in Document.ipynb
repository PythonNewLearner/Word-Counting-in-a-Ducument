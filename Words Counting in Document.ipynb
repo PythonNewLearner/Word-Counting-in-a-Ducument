{
 "cells": [
  {
   "cell_type": "markdown",
   "metadata": {},
   "source": [
    "# Sorting frequency of words in a document"
   ]
  },
  {
   "cell_type": "code",
   "execution_count": 22,
   "metadata": {},
   "outputs": [
    {
     "data": {
      "text/plain": [
       "['os', 'path', 'ls', 'h', 'root', 'a']"
      ]
     },
     "execution_count": 22,
     "metadata": {},
     "output_type": "execute_result"
    }
   ],
   "source": [
    "# method 1 : normal method\n",
    "def make_char1(src:str,chars = set(r''''\"~!@#$%^&*()<>.?,\\/- []{}''')):\n",
    "    target = []\n",
    "    s= src.lower()\n",
    "    for c in s:\n",
    "        if c in chars:\n",
    "            target.append(' ')\n",
    "        else:\n",
    "            target.append(c)\n",
    "    return ''.join(target).split()\n",
    "make_char1('os.path.ls.h,(root).a')"
   ]
  },
  {
   "cell_type": "code",
   "execution_count": 23,
   "metadata": {},
   "outputs": [
    {
     "name": "stdout",
     "output_type": "stream",
     "text": [
      "os\n",
      "path\n",
      "ls\n",
      "h\n",
      "root\n",
      "a\n"
     ]
    }
   ],
   "source": [
    "#method 2 : slicing\n",
    "def make_char2(src:str,chars = set(r''''\"~!@#$%^&*()<>.?,\\/- []{}''')):\n",
    "    target = []\n",
    "    length = len(src)\n",
    "    start = 0\n",
    "    for i,c in enumerate(src):\n",
    "        if c in chars:\n",
    "            if start == i:  # situation : '..d' , 'a..'\n",
    "                start += 1\n",
    "                continue\n",
    "            yield src[start:i]\n",
    "            start = i +1\n",
    "    else:\n",
    "        if start < length:   # situation : '(root).a'  :handling last char\n",
    "            yield src[start:]\n",
    "    \n",
    "for x in make_char2('os.path.ls.h,(root).a'):\n",
    "    print(x)"
   ]
  },
  {
   "cell_type": "markdown",
   "metadata": {},
   "source": [
    "Now we count the number of words and find top n words in a document:"
   ]
  },
  {
   "cell_type": "code",
   "execution_count": 24,
   "metadata": {},
   "outputs": [],
   "source": [
    "def TopN(n,file,stopwords=set(),d = {}): #eliminate stopwords\n",
    "    with open(file) as f:\n",
    "        for line in f:\n",
    "            for word in map(str.lower,make_char2(line)):\n",
    "                if word not in stopwords:\n",
    "                    d[word] = d.get(word,0) + 1\n",
    "    return sorted(d.items(),key=lambda x: x[1],reverse=True)[:n]  #sort dictionary by values in decsending order"
   ]
  },
  {
   "cell_type": "code",
   "execution_count": 25,
   "metadata": {
    "scrolled": false
   },
   "outputs": [
    {
     "data": {
      "text/plain": [
       "[('path', 138),\n",
       " ('os', 49),\n",
       " ('return', 30),\n",
       " ('file', 24),\n",
       " ('windows', 24),\n",
       " ('pathname', 17),\n",
       " ('true', 17),\n",
       " ('drive', 17),\n",
       " ('directory', 16),\n",
       " ('unix', 16)]"
      ]
     },
     "execution_count": 25,
     "metadata": {},
     "output_type": "execute_result"
    }
   ],
   "source": [
    "TopN(10,'sample.txt',{'a','\\n','the','and','to','on','is','if','of','or','in','an','this','for'}) # path is the most frequent word"
   ]
  },
  {
   "cell_type": "code",
   "execution_count": null,
   "metadata": {},
   "outputs": [],
   "source": []
  }
 ],
 "metadata": {
  "kernelspec": {
   "display_name": "Python 3",
   "language": "python",
   "name": "python3"
  },
  "language_info": {
   "codemirror_mode": {
    "name": "ipython",
    "version": 3
   },
   "file_extension": ".py",
   "mimetype": "text/x-python",
   "name": "python",
   "nbconvert_exporter": "python",
   "pygments_lexer": "ipython3",
   "version": "3.7.3"
  }
 },
 "nbformat": 4,
 "nbformat_minor": 2
}
